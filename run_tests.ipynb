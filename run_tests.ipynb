{
 "cells": [
  {
   "cell_type": "markdown",
   "metadata": {},
   "source": [
    "# OpenAI API Prompt Testing Notebook\n",
    "\n",
    "This notebook allows you to run structured, multi-round prompt tests with the OpenAI API.\n",
    "\n",
    "**Round 1:**\n",
    "- Test `template1.txt`, `template2.txt`, `template3.txt`\n",
    "- For each template, use `theory_1.txt` as the theory variable\n",
    "- For each template, iterate over all science texts: `text1.txt`, `text2.txt`, `text3.txt`\n",
    "- Save results in `results/round1/`\n",
    "\n",
    "**Round 2:**\n",
    "- Test only `template3.txt`\n",
    "- For `template3.txt`, iterate over all science texts and all theory files: `theory_1.txt`, `theory_2.txt`, `theory_3.txt`\n",
    "- Save results in `results/round2/`"
   ]
  },
  {
   "cell_type": "code",
   "execution_count": 14,
   "metadata": {},
   "outputs": [],
   "source": [
    "import os\n",
    "import glob\n",
    "import datetime\n",
    "import openai\n",
    "from dotenv import load_dotenv\n",
    "\n",
    "# Load environment variables\n",
    "load_dotenv()\n",
    "\n",
    "# Set up OpenAI client\n",
    "api_key = os.getenv(\"OPENAI_API_KEY\")\n",
    "if not api_key:\n",
    "    raise ValueError(\"OPENAI_API_KEY not found. Please create a .env file and add your API key.\")\n",
    "openai.api_key = api_key\n",
    "\n",
    "# Directory configuration\n",
    "PROMPTS_DIR = 'prompts'\n",
    "SCIENCE_TEXT_DIR = 'variables/science_text'\n",
    "THEORY_DIR = 'variables/theory'\n",
    "RESULTS_DIR = 'results'\n",
    "MODEL_ENGINE = 'gpt-4o'  # You can change this to another model if needed"
   ]
  },
  {
   "cell_type": "markdown",
   "metadata": {},
   "source": [
    "## Utility Functions\n",
    "Helper functions for file loading, prompt cleaning, and API calls."
   ]
  },
  {
   "cell_type": "code",
   "execution_count": 6,
   "metadata": {},
   "outputs": [],
   "source": [
    "def clean_template_content(template_content):\n",
    "    \"\"\"\n",
    "    Remove comment lines (starting with #) and empty lines from template content.\n",
    "    \"\"\"\n",
    "    lines = template_content.split('\\n')\n",
    "    cleaned_lines = []\n",
    "    for line in lines:\n",
    "        stripped_line = line.strip()\n",
    "        if not stripped_line.startswith('#') and stripped_line:\n",
    "            cleaned_lines.append(line)\n",
    "    return '\\n'.join(cleaned_lines)\n",
    "\n",
    "def run_openai_test(prompt_text):\n",
    "    \"\"\"\n",
    "    Send a prompt to the OpenAI API and return the response.\n",
    "    \"\"\"\n",
    "    try:\n",
    "        response = client.chat.completions.create(\n",
    "            model=MODEL_ENGINE,\n",
    "            messages=[{\"role\": \"user\", \"content\": prompt_text}]\n",
    "        )\n",
    "        return response.choices[0].message.content\n",
    "    except Exception as e:\n",
    "        print(f'API Error: {e}')\n",
    "        return None\n",
    "\n",
    "def get_files(directory, pattern=\"*.txt\"):\n",
    "    \"\"\"\n",
    "    Return a sorted list of files matching the pattern in the directory.\n",
    "    \"\"\"\n",
    "    return sorted(glob.glob(os.path.join(directory, pattern)))"
   ]
  },
  {
   "cell_type": "markdown",
   "metadata": {},
   "source": [
    "## Round 1: Test template1-3, theory_1, all science texts\n",
    "- For each template (1, 2, 3), use theory_1.txt\n",
    "- For each template, iterate over all science texts (text1.txt, text2.txt, text3.txt)\n",
    "- Save results in results/round1/"
   ]
  },
  {
   "cell_type": "code",
   "execution_count": 26,
   "metadata": {},
   "outputs": [
    {
     "name": "stdout",
     "output_type": "stream",
     "text": [
      "API Error: Connection error.\n",
      "Saved: results/round1/template1_science_text1_theory1_20250706_054642.txt\n",
      "API Error: Connection error.\n",
      "Saved: results/round1/template1_science_text2_theory1_20250706_054718.txt\n",
      "API Error: Connection error.\n",
      "Saved: results/round1/template1_science_text3_theory1_20250706_054753.txt\n"
     ]
    }
   ],
   "source": [
    "round1_results_dir = os.path.join(RESULTS_DIR, 'round1')\n",
    "os.makedirs(round1_results_dir, exist_ok=True)\n",
    "\n",
    "# Select templates and theory\n",
    "template_files = [\n",
    "    os.path.join(PROMPTS_DIR, f'template1.txt') #for i in [1, 2, 3]\n",
    "]\n",
    "theory_file = os.path.join(THEORY_DIR, 'theory_1.txt')\n",
    "\n",
    "# Get all science texts\n",
    "science_text_files = get_files(SCIENCE_TEXT_DIR, 'science_text*.txt')\n",
    "\n",
    "for template_path in template_files:\n",
    "    template_name = os.path.basename(template_path)\n",
    "    with open(template_path, 'r') as f:\n",
    "        template_content = f.read()\n",
    "    cleaned_template = clean_template_content(template_content)\n",
    "    with open(theory_file, 'r') as f:\n",
    "        theory_text = f.read()\n",
    "    for science_path in science_text_files:\n",
    "        science_name = os.path.basename(science_path)\n",
    "        with open(science_path, 'r') as f:\n",
    "            science_text = f.read()\n",
    "        # Format the prompt\n",
    "        prompt = cleaned_template.format(text=science_text, theory=theory_text)\n",
    "        # Call OpenAI API\n",
    "        result = run_openai_test(prompt)\n",
    "        # Save result\n",
    "        timestamp = datetime.datetime.now().strftime('%Y%m%d_%H%M%S')\n",
    "        result_filename = f'{template_name[:-4]}_{science_name[:-4]}_theory1_{timestamp}.txt'\n",
    "        result_path = os.path.join(round1_results_dir, result_filename)\n",
    "        with open(result_path, 'w', encoding='utf-8') as f:\n",
    "            f.write(f'PROMPT:\\n{\"=\"*30}\\n{prompt}\\n\\nRESULT:\\n{\"=\"*30}\\n{result}\\n')\n",
    "        print(f'Saved: {result_path}')"
   ]
  },
  {
   "cell_type": "markdown",
   "metadata": {},
   "source": [
    "## Round 2: Test template3, all science texts, all theories\n",
    "- Only use template3.txt\n",
    "- Iterate over all science texts and all theory files\n",
    "- Save results in results/round2/"
   ]
  },
  {
   "cell_type": "code",
   "execution_count": 23,
   "metadata": {},
   "outputs": [
    {
     "name": "stdout",
     "output_type": "stream",
     "text": [
      "Saved: results/round2/template4_science_text1_theory_1_20250703_150648.txt\n",
      "Saved: results/round2/template4_science_text1_theory_2_20250703_150721.txt\n",
      "Saved: results/round2/template4_science_text1_theory_3_20250703_150842.txt\n",
      "Saved: results/round2/template4_science_text2_theory_1_20250703_150926.txt\n",
      "Saved: results/round2/template4_science_text2_theory_2_20250703_151023.txt\n",
      "Saved: results/round2/template4_science_text2_theory_3_20250703_151050.txt\n",
      "Saved: results/round2/template4_science_text3_theory_1_20250703_151134.txt\n",
      "Saved: results/round2/template4_science_text3_theory_2_20250703_151227.txt\n",
      "Saved: results/round2/template4_science_text3_theory_3_20250703_151317.txt\n"
     ]
    }
   ],
   "source": [
    "round2_results_dir = os.path.join(RESULTS_DIR, 'round2')\n",
    "os.makedirs(round2_results_dir, exist_ok=True)\n",
    "\n",
    "template4_path = os.path.join(PROMPTS_DIR, 'template4.txt')\n",
    "with open(template4_path, 'r') as f:\n",
    "    template4_content = f.read()\n",
    "cleaned_template4 = clean_template_content(template4_content)\n",
    "\n",
    "science_text_files = get_files(SCIENCE_TEXT_DIR, 'science_text*.txt')\n",
    "theory_files = get_files(THEORY_DIR, 'theory_*.txt')\n",
    "\n",
    "for science_path in science_text_files:\n",
    "    science_name = os.path.basename(science_path)\n",
    "    with open(science_path, 'r') as f:\n",
    "        science_text = f.read()\n",
    "    for theory_path in theory_files:\n",
    "        theory_name = os.path.basename(theory_path)\n",
    "        with open(theory_path, 'r') as f:\n",
    "            theory_text = f.read()\n",
    "        # Format the prompt\n",
    "        prompt = cleaned_template4.format(text=science_text, theory=theory_text)\n",
    "        # Call OpenAI API\n",
    "        result = run_openai_test(prompt)\n",
    "        # Save result\n",
    "        timestamp = datetime.datetime.now().strftime('%Y%m%d_%H%M%S')\n",
    "        result_filename = f'template4_{science_name[:-4]}_{theory_name[:-4]}_{timestamp}.txt'\n",
    "        result_path = os.path.join(round2_results_dir, result_filename)\n",
    "        with open(result_path, 'w', encoding='utf-8') as f:\n",
    "            f.write(f'PROMPT:\\n{\"=\"*30}\\n{prompt}\\n\\nRESULT:\\n{\"=\"*30}\\n{result}\\n')\n",
    "        print(f'Saved: {result_path}')"
   ]
  }
 ],
 "metadata": {
  "kernelspec": {
   "display_name": "Python 3",
   "language": "python",
   "name": "python3"
  },
  "language_info": {
   "codemirror_mode": {
    "name": "ipython",
    "version": 3
   },
   "file_extension": ".py",
   "mimetype": "text/x-python",
   "name": "python",
   "nbconvert_exporter": "python",
   "pygments_lexer": "ipython3",
   "version": "3.11.1"
  }
 },
 "nbformat": 4,
 "nbformat_minor": 2
}
